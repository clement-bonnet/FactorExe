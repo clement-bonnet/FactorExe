{
 "cells": [
  {
   "cell_type": "code",
   "execution_count": 1,
   "metadata": {},
   "outputs": [
    {
     "name": "stdout",
     "output_type": "stream",
     "text": [
      "/Users/clement/FactorExe\n"
     ]
    }
   ],
   "source": [
    "%cd .."
   ]
  },
  {
   "cell_type": "code",
   "execution_count": 2,
   "metadata": {},
   "outputs": [],
   "source": [
    "import functools\n",
    "\n",
    "import jax\n",
    "import jax.numpy as jnp\n",
    "import numpy as np\n",
    "\n",
    "from env import C_VPR"
   ]
  },
  {
   "cell_type": "code",
   "execution_count": 4,
   "metadata": {},
   "outputs": [],
   "source": [
    "env = C_VPR(input_length=100)\n",
    "keys = jax.random.split(jax.random.PRNGKey(0), 10)\n",
    "examples, targets = jax.vmap(functools.partial(env.sample_n_hops, num_hops=30, return_target=True))(keys)"
   ]
  },
  {
   "cell_type": "code",
   "execution_count": 5,
   "metadata": {},
   "outputs": [
    {
     "data": {
      "text/plain": [
       "Array([[44, 28, 99, 47, 62, 92, 43, 87, 43, 85],\n",
       "       [91, 92, 99, 81, 10, 78, 67, 12,  6, 85],\n",
       "       [91, 53, 57, 66, 60, 57, 21, 75, 11, 77],\n",
       "       [94, 73, 71, 26, 99, 10, 54, 19, 33, 37],\n",
       "       [12, 92, 94, 16, 99, 79,  0, 47, 53, 79],\n",
       "       [94, 15,  2, 39, 68,  7, 97, 67, 14, 92],\n",
       "       [95, 24, 45, 11, 49, 56, 51, 23, 38, 20],\n",
       "       [ 0, 82, 57, 27, 70, 52, 97, 99, 11, 90],\n",
       "       [75, 47, 40, 48, 62, 96, 18, 98, 19,  0],\n",
       "       [33, 70, 98, 48, 48, 50, 31, 19,  8, 96]], dtype=int32)"
      ]
     },
     "execution_count": 5,
     "metadata": {},
     "output_type": "execute_result"
    }
   ],
   "source": [
    "examples[:, -10:]"
   ]
  },
  {
   "cell_type": "code",
   "execution_count": 6,
   "metadata": {},
   "outputs": [
    {
     "data": {
      "text/plain": [
       "Array([85, 85, 53, 37, 79, 67, 49, 90, 18,  8], dtype=int32)"
      ]
     },
     "execution_count": 6,
     "metadata": {},
     "output_type": "execute_result"
    }
   ],
   "source": [
    "targets"
   ]
  },
  {
   "cell_type": "code",
   "execution_count": 7,
   "metadata": {},
   "outputs": [
    {
     "data": {
      "text/plain": [
       "Array([ 3, 52, 90,  5, 62,  8, 99, 95, 11, 98, 35, 14, 41,  1, 18, 51, 52,\n",
       "       65, 22, 14, 96, 13, 29, 70, 92, 32, 83, 63,  1, 31, 31, 37, 30,  8,\n",
       "       69, 14, 36, 38, 49, 15, 40, 90, 83, 47, 61, 35, 82, 87, 62, 53, 33,\n",
       "       88,  5, 55, 43, 56, 57, 58, 59, 64, 69, 70, 36, 21, 66, 29, 70, 10,\n",
       "       63, 38, 72, 11, 77, 93, 56, 14, 57, 78, 81, 31, 10, 83, 48, 84, 88,\n",
       "       32, 63, 31, 90, 40, 91, 53, 57, 66, 60, 57, 21, 75, 11, 77],      dtype=int32)"
      ]
     },
     "execution_count": 7,
     "metadata": {},
     "output_type": "execute_result"
    }
   ],
   "source": [
    "examples[2]"
   ]
  },
  {
   "cell_type": "code",
   "execution_count": null,
   "metadata": {},
   "outputs": [],
   "source": []
  },
  {
   "cell_type": "code",
   "execution_count": 8,
   "metadata": {},
   "outputs": [],
   "source": [
    "key = jax.random.PRNGKey(0)\n",
    "batch_size = 8\n",
    "train_num_hops = [1, 2, 3, 4]\n",
    "num_hops_key, sample_key, dropout_key = jax.random.split(key, 3)\n",
    "\n",
    "def sample_n_hops(key, num_hops_index):\n",
    "    if len(train_num_hops) == 1:\n",
    "        del num_hops_index\n",
    "        return env.sample_n_hops(\n",
    "            key, train_num_hops[0], return_target=True\n",
    "        )\n",
    "    else:\n",
    "        return jax.lax.switch(\n",
    "            num_hops_index,\n",
    "            [\n",
    "                functools.partial(\n",
    "                    env.sample_n_hops,\n",
    "                    num_hops=num_hops,\n",
    "                    return_target=True,\n",
    "                )\n",
    "                for num_hops in train_num_hops\n",
    "            ],\n",
    "            key,\n",
    "        )\n",
    "\n",
    "num_hops_indices = jax.random.choice(\n",
    "    num_hops_key,\n",
    "    jnp.arange(len(train_num_hops)),\n",
    "    (batch_size,),\n",
    "    replace=True,\n",
    ")\n",
    "sample_keys = jax.random.split(sample_key, batch_size)\n",
    "examples, labels = jax.vmap(sample_n_hops)(sample_keys, num_hops_indices)\n"
   ]
  },
  {
   "cell_type": "code",
   "execution_count": 9,
   "metadata": {},
   "outputs": [
    {
     "data": {
      "text/plain": [
       "Array([[18, 75, 57, 80, 40, 84, 73, 35, 65, 87,  3, 25, 73, 34,  2, 11,\n",
       "        89, 92, 54, 20, 43, 63, 35, 74, 73, 65, 28, 89, 95, 13, 17, 71,\n",
       "         1, 43, 27, 77, 15, 50, 19, 35, 35, 64, 11, 50, 22, 27, 85, 95,\n",
       "         6,  6, 20, 78, 95, 43, 66, 22, 90, 10,  8, 95, 25, 22, 75, 54,\n",
       "        30, 55, 68, 64, 58, 32, 16,  9, 46, 98, 56, 50, 68, 78,  5, 29,\n",
       "        69, 32, 23, 45, 66, 82, 11, 50, 95, 53, 41, 81, 28, 83, 29, 60,\n",
       "        35, 87,  2, 97],\n",
       "       [38, 10, 80, 98,  4, 25, 56, 71, 97, 65, 62, 39, 96,  2, 62, 66,\n",
       "        92, 76, 56, 64, 97, 71, 46, 31, 97, 86, 41, 15, 37, 45, 29, 35,\n",
       "        44, 73, 81,  9, 92, 53, 24, 84,  7, 36, 77, 67, 46, 93, 52, 46,\n",
       "        71, 57, 83, 45, 68, 67, 17,  8, 68,  6, 81, 11,  2, 22, 64,  3,\n",
       "        83, 83, 62,  1, 32, 45,  2, 28, 38, 45, 33, 12, 77, 13, 68, 74,\n",
       "         1, 80, 19, 82, 31, 86, 45, 59, 13, 34, 47, 95,  5, 15,  0, 47,\n",
       "        98, 67, 48, 47],\n",
       "       [32, 69, 20, 44, 81, 20, 46, 95, 21, 89, 42,  3, 12, 26, 59, 30,\n",
       "        74, 50, 37,  2, 69, 84,  8, 48, 37, 80, 98, 44,  0, 87, 65, 18,\n",
       "        55, 80, 92, 87, 73, 41, 58, 77, 84, 38, 72, 24, 50, 61, 91, 54,\n",
       "        95, 15, 77, 78, 54, 67, 83, 60, 11, 24, 71, 15, 52, 96, 41, 44,\n",
       "         2, 96, 15, 19, 45,  9, 35,  7, 55, 94, 11, 34, 58, 35,  1, 31,\n",
       "        37, 13,  8, 11, 46, 96,  0, 44, 66, 54, 86, 39, 87, 74, 83, 67,\n",
       "        58, 39, 76, 99],\n",
       "       [ 1, 53, 56, 15, 77, 45, 62, 98, 35, 70, 47, 70,  9, 54, 38, 96,\n",
       "        35, 37, 67, 18,  2,  2, 95, 67, 59, 31, 70, 38, 87, 27,  2, 49,\n",
       "        54, 33, 38, 33, 92, 39, 94, 35, 21,  3, 90, 70, 96, 34, 70, 24,\n",
       "        43, 86, 33, 97, 98, 74, 10, 76, 10, 52, 24, 70, 58, 78, 26, 69,\n",
       "        94, 32, 90, 56, 63, 45, 72, 66, 74, 42, 74, 24,  3, 61,  5, 80,\n",
       "        62, 87, 20, 42, 49, 97, 35, 35, 15, 58, 15, 80, 88,  9, 77, 72,\n",
       "        20, 52, 35, 77],\n",
       "       [66, 53, 74, 70, 75, 95, 21, 40, 75, 32, 12, 32, 39, 76, 60, 85,\n",
       "        41, 70, 40, 96, 25, 18, 89, 58, 76,  9, 66, 76, 33, 54, 60, 27,\n",
       "        14, 91, 40, 78, 70, 89, 75, 95, 19, 71, 20, 83, 14, 54, 47, 51,\n",
       "        34, 34, 57, 61,  0, 99, 20, 97, 55, 20, 11, 55, 60, 92,  6, 76,\n",
       "        61, 42, 14, 91,  9, 53, 67, 70, 81, 12, 48, 32, 61, 33, 61, 82,\n",
       "        21, 16, 83, 26, 73, 81, 86, 69, 20, 58, 16, 48, 68, 61, 86, 44,\n",
       "        89, 38, 88, 12],\n",
       "       [29, 14, 49, 70, 87, 14,  4, 44,  7, 95, 70, 85, 63, 14, 90, 42,\n",
       "         9, 24, 44, 85, 66, 74, 67, 52, 25, 93, 12,  3, 24, 70, 74, 77,\n",
       "        76, 66, 40, 73, 44, 94, 69, 16, 51, 30, 22, 61, 95, 74, 42, 22,\n",
       "        30, 69, 37, 18,  4, 53, 62, 46, 18, 53, 86,  9, 56, 25, 51, 33,\n",
       "        49, 73, 73, 56, 48,  4, 72, 36, 88, 38, 40, 22, 11, 11, 20, 78,\n",
       "        97, 73, 91, 68, 11, 23, 83, 89, 25, 11, 71, 11, 95, 18, 94, 53,\n",
       "        58, 96, 28, 95],\n",
       "       [34, 15, 36,  3, 92, 78, 35, 45,  0, 50, 77, 33, 25, 57, 54, 48,\n",
       "        90,  3, 25, 10, 35, 45, 66,  6, 45, 69, 56,  5, 78, 62, 18, 71,\n",
       "        32, 39, 32, 47,  1, 20, 81, 84, 20,  0, 64, 76, 72, 64, 31, 56,\n",
       "        66,  1, 80, 11,  9, 56,  6, 29, 92, 64, 25, 55, 48, 31, 12, 61,\n",
       "        81, 68, 13, 38, 49, 74,  0, 11, 85, 12, 77,  7, 29, 44, 45, 68,\n",
       "        46, 28, 88, 61,  1, 61, 41, 41, 87, 29, 26, 65,  5,  9, 16, 77,\n",
       "        75, 86, 43, 36],\n",
       "       [16, 96, 42,  0, 11, 36, 19, 28,  9, 88, 65, 12,  7, 28, 76, 58,\n",
       "        69, 96, 60, 56, 99, 25, 50, 86, 22, 83, 91, 30, 46, 60, 14, 91,\n",
       "         9, 12, 79,  4, 16, 29, 16, 74, 58, 34, 19, 61, 76, 78, 75, 69,\n",
       "        85, 60, 27, 55, 99, 80, 26, 11, 89, 55, 72, 47, 61, 98, 23, 26,\n",
       "        28, 15, 25,  1, 23,  6, 76, 80, 89, 94, 31, 37, 21, 36, 18, 93,\n",
       "         0, 75, 27, 77, 12, 16,  9, 13, 72, 56, 31, 60, 42, 78, 56, 57,\n",
       "        47, 85, 36, 67]], dtype=int32)"
      ]
     },
     "execution_count": 9,
     "metadata": {},
     "output_type": "execute_result"
    }
   ],
   "source": [
    "examples"
   ]
  },
  {
   "cell_type": "code",
   "execution_count": 10,
   "metadata": {},
   "outputs": [
    {
     "data": {
      "text/plain": [
       "Array([58, 24, 52, 74, 14, 25, 32,  6], dtype=int32)"
      ]
     },
     "execution_count": 10,
     "metadata": {},
     "output_type": "execute_result"
    }
   ],
   "source": [
    "labels"
   ]
  },
  {
   "cell_type": "code",
   "execution_count": null,
   "metadata": {},
   "outputs": [],
   "source": []
  },
  {
   "cell_type": "code",
   "execution_count": 42,
   "metadata": {},
   "outputs": [
    {
     "name": "stderr",
     "output_type": "stream",
     "text": [
      "INFO:root:Number of parameters: 1,885,824\n"
     ]
    },
    {
     "data": {
      "text/html": [
       "Finishing last run (ID:ef4zfbi9) before initializing another..."
      ],
      "text/plain": [
       "<IPython.core.display.HTML object>"
      ]
     },
     "metadata": {},
     "output_type": "display_data"
    },
    {
     "name": "stderr",
     "output_type": "stream",
     "text": [
      "wandb: WARNING Source type is set to 'repo' but some required information is missing from the environment. A job will not be created from this run. See https://docs.wandb.ai/guides/launch/create-job\n"
     ]
    },
    {
     "data": {
      "text/html": [
       " View run <strong style=\"color:#cdcd00\">neat-smoke-151</strong> at: <a href='https://wandb.ai/clementbonnet/FactorExe/runs/ef4zfbi9' target=\"_blank\">https://wandb.ai/clementbonnet/FactorExe/runs/ef4zfbi9</a><br/>Synced 5 W&B file(s), 0 media file(s), 0 artifact file(s) and 0 other file(s)"
      ],
      "text/plain": [
       "<IPython.core.display.HTML object>"
      ]
     },
     "metadata": {},
     "output_type": "display_data"
    },
    {
     "data": {
      "text/html": [
       "Find logs at: <code>./wandb/run-20240110_222240-ef4zfbi9/logs</code>"
      ],
      "text/plain": [
       "<IPython.core.display.HTML object>"
      ]
     },
     "metadata": {},
     "output_type": "display_data"
    },
    {
     "data": {
      "text/html": [
       "Successfully finished last run (ID:ef4zfbi9). Initializing new run:<br/>"
      ],
      "text/plain": [
       "<IPython.core.display.HTML object>"
      ]
     },
     "metadata": {},
     "output_type": "display_data"
    },
    {
     "data": {
      "text/html": [
       "wandb version 0.16.2 is available!  To upgrade, please run:\n",
       " $ pip install wandb --upgrade"
      ],
      "text/plain": [
       "<IPython.core.display.HTML object>"
      ]
     },
     "metadata": {},
     "output_type": "display_data"
    },
    {
     "data": {
      "text/html": [
       "Tracking run with wandb version 0.16.1"
      ],
      "text/plain": [
       "<IPython.core.display.HTML object>"
      ]
     },
     "metadata": {},
     "output_type": "display_data"
    },
    {
     "data": {
      "text/html": [
       "Run data is saved locally in <code>/Users/clement/FactorExe/wandb/run-20240110_224647-ivpy5x53</code>"
      ],
      "text/plain": [
       "<IPython.core.display.HTML object>"
      ]
     },
     "metadata": {},
     "output_type": "display_data"
    },
    {
     "data": {
      "text/html": [
       "Syncing run <strong><a href='https://wandb.ai/clementbonnet/FactorExe/runs/ivpy5x53' target=\"_blank\">lucky-cloud-152</a></strong> to <a href='https://wandb.ai/clementbonnet/FactorExe' target=\"_blank\">Weights & Biases</a> (<a href='https://wandb.me/run' target=\"_blank\">docs</a>)<br/>"
      ],
      "text/plain": [
       "<IPython.core.display.HTML object>"
      ]
     },
     "metadata": {},
     "output_type": "display_data"
    },
    {
     "data": {
      "text/html": [
       " View project at <a href='https://wandb.ai/clementbonnet/FactorExe' target=\"_blank\">https://wandb.ai/clementbonnet/FactorExe</a>"
      ],
      "text/plain": [
       "<IPython.core.display.HTML object>"
      ]
     },
     "metadata": {},
     "output_type": "display_data"
    },
    {
     "data": {
      "text/html": [
       " View run at <a href='https://wandb.ai/clementbonnet/FactorExe/runs/ivpy5x53' target=\"_blank\">https://wandb.ai/clementbonnet/FactorExe/runs/ivpy5x53</a>"
      ],
      "text/plain": [
       "<IPython.core.display.HTML object>"
      ]
     },
     "metadata": {},
     "output_type": "display_data"
    },
    {
     "name": "stderr",
     "output_type": "stream",
     "text": [
      "\u001b[34m\u001b[1mwandb\u001b[0m:   1 of 1 files downloaded.  \n",
      "INFO:root:Number of parameters: 3,656,064\n"
     ]
    },
    {
     "data": {
      "text/html": [
       "Finishing last run (ID:ivpy5x53) before initializing another..."
      ],
      "text/plain": [
       "<IPython.core.display.HTML object>"
      ]
     },
     "metadata": {},
     "output_type": "display_data"
    },
    {
     "name": "stderr",
     "output_type": "stream",
     "text": [
      "wandb: WARNING Source type is set to 'repo' but some required information is missing from the environment. A job will not be created from this run. See https://docs.wandb.ai/guides/launch/create-job\n"
     ]
    },
    {
     "data": {
      "text/html": [
       " View run <strong style=\"color:#cdcd00\">lucky-cloud-152</strong> at: <a href='https://wandb.ai/clementbonnet/FactorExe/runs/ivpy5x53' target=\"_blank\">https://wandb.ai/clementbonnet/FactorExe/runs/ivpy5x53</a><br/>Synced 5 W&B file(s), 0 media file(s), 0 artifact file(s) and 0 other file(s)"
      ],
      "text/plain": [
       "<IPython.core.display.HTML object>"
      ]
     },
     "metadata": {},
     "output_type": "display_data"
    },
    {
     "data": {
      "text/html": [
       "Find logs at: <code>./wandb/run-20240110_224647-ivpy5x53/logs</code>"
      ],
      "text/plain": [
       "<IPython.core.display.HTML object>"
      ]
     },
     "metadata": {},
     "output_type": "display_data"
    },
    {
     "data": {
      "text/html": [
       "Successfully finished last run (ID:ivpy5x53). Initializing new run:<br/>"
      ],
      "text/plain": [
       "<IPython.core.display.HTML object>"
      ]
     },
     "metadata": {},
     "output_type": "display_data"
    },
    {
     "data": {
      "text/html": [
       "wandb version 0.16.2 is available!  To upgrade, please run:\n",
       " $ pip install wandb --upgrade"
      ],
      "text/plain": [
       "<IPython.core.display.HTML object>"
      ]
     },
     "metadata": {},
     "output_type": "display_data"
    },
    {
     "data": {
      "text/html": [
       "Tracking run with wandb version 0.16.1"
      ],
      "text/plain": [
       "<IPython.core.display.HTML object>"
      ]
     },
     "metadata": {},
     "output_type": "display_data"
    },
    {
     "data": {
      "text/html": [
       "Run data is saved locally in <code>/Users/clement/FactorExe/wandb/run-20240110_224655-t4a9q70m</code>"
      ],
      "text/plain": [
       "<IPython.core.display.HTML object>"
      ]
     },
     "metadata": {},
     "output_type": "display_data"
    },
    {
     "data": {
      "text/html": [
       "Syncing run <strong><a href='https://wandb.ai/clementbonnet/FactorExe/runs/t4a9q70m' target=\"_blank\">smooth-snowflake-153</a></strong> to <a href='https://wandb.ai/clementbonnet/FactorExe' target=\"_blank\">Weights & Biases</a> (<a href='https://wandb.me/run' target=\"_blank\">docs</a>)<br/>"
      ],
      "text/plain": [
       "<IPython.core.display.HTML object>"
      ]
     },
     "metadata": {},
     "output_type": "display_data"
    },
    {
     "data": {
      "text/html": [
       " View project at <a href='https://wandb.ai/clementbonnet/FactorExe' target=\"_blank\">https://wandb.ai/clementbonnet/FactorExe</a>"
      ],
      "text/plain": [
       "<IPython.core.display.HTML object>"
      ]
     },
     "metadata": {},
     "output_type": "display_data"
    },
    {
     "data": {
      "text/html": [
       " View run at <a href='https://wandb.ai/clementbonnet/FactorExe/runs/t4a9q70m' target=\"_blank\">https://wandb.ai/clementbonnet/FactorExe/runs/t4a9q70m</a>"
      ],
      "text/plain": [
       "<IPython.core.display.HTML object>"
      ]
     },
     "metadata": {},
     "output_type": "display_data"
    },
    {
     "name": "stderr",
     "output_type": "stream",
     "text": [
      "\u001b[34m\u001b[1mwandb\u001b[0m:   1 of 1 files downloaded.  \n",
      "INFO:root:Number of parameters: 5,426,304\n"
     ]
    },
    {
     "data": {
      "text/html": [
       "Finishing last run (ID:t4a9q70m) before initializing another..."
      ],
      "text/plain": [
       "<IPython.core.display.HTML object>"
      ]
     },
     "metadata": {},
     "output_type": "display_data"
    },
    {
     "name": "stderr",
     "output_type": "stream",
     "text": [
      "wandb: WARNING Source type is set to 'repo' but some required information is missing from the environment. A job will not be created from this run. See https://docs.wandb.ai/guides/launch/create-job\n"
     ]
    },
    {
     "data": {
      "text/html": [
       " View run <strong style=\"color:#cdcd00\">smooth-snowflake-153</strong> at: <a href='https://wandb.ai/clementbonnet/FactorExe/runs/t4a9q70m' target=\"_blank\">https://wandb.ai/clementbonnet/FactorExe/runs/t4a9q70m</a><br/>Synced 5 W&B file(s), 0 media file(s), 0 artifact file(s) and 0 other file(s)"
      ],
      "text/plain": [
       "<IPython.core.display.HTML object>"
      ]
     },
     "metadata": {},
     "output_type": "display_data"
    },
    {
     "data": {
      "text/html": [
       "Find logs at: <code>./wandb/run-20240110_224655-t4a9q70m/logs</code>"
      ],
      "text/plain": [
       "<IPython.core.display.HTML object>"
      ]
     },
     "metadata": {},
     "output_type": "display_data"
    },
    {
     "data": {
      "text/html": [
       "Successfully finished last run (ID:t4a9q70m). Initializing new run:<br/>"
      ],
      "text/plain": [
       "<IPython.core.display.HTML object>"
      ]
     },
     "metadata": {},
     "output_type": "display_data"
    },
    {
     "data": {
      "text/html": [
       "wandb version 0.16.2 is available!  To upgrade, please run:\n",
       " $ pip install wandb --upgrade"
      ],
      "text/plain": [
       "<IPython.core.display.HTML object>"
      ]
     },
     "metadata": {},
     "output_type": "display_data"
    },
    {
     "data": {
      "text/html": [
       "Tracking run with wandb version 0.16.1"
      ],
      "text/plain": [
       "<IPython.core.display.HTML object>"
      ]
     },
     "metadata": {},
     "output_type": "display_data"
    },
    {
     "data": {
      "text/html": [
       "Run data is saved locally in <code>/Users/clement/FactorExe/wandb/run-20240110_224705-evr8x4hp</code>"
      ],
      "text/plain": [
       "<IPython.core.display.HTML object>"
      ]
     },
     "metadata": {},
     "output_type": "display_data"
    },
    {
     "data": {
      "text/html": [
       "Syncing run <strong><a href='https://wandb.ai/clementbonnet/FactorExe/runs/evr8x4hp' target=\"_blank\">eager-salad-154</a></strong> to <a href='https://wandb.ai/clementbonnet/FactorExe' target=\"_blank\">Weights & Biases</a> (<a href='https://wandb.me/run' target=\"_blank\">docs</a>)<br/>"
      ],
      "text/plain": [
       "<IPython.core.display.HTML object>"
      ]
     },
     "metadata": {},
     "output_type": "display_data"
    },
    {
     "data": {
      "text/html": [
       " View project at <a href='https://wandb.ai/clementbonnet/FactorExe' target=\"_blank\">https://wandb.ai/clementbonnet/FactorExe</a>"
      ],
      "text/plain": [
       "<IPython.core.display.HTML object>"
      ]
     },
     "metadata": {},
     "output_type": "display_data"
    },
    {
     "data": {
      "text/html": [
       " View run at <a href='https://wandb.ai/clementbonnet/FactorExe/runs/evr8x4hp' target=\"_blank\">https://wandb.ai/clementbonnet/FactorExe/runs/evr8x4hp</a>"
      ],
      "text/plain": [
       "<IPython.core.display.HTML object>"
      ]
     },
     "metadata": {},
     "output_type": "display_data"
    },
    {
     "name": "stderr",
     "output_type": "stream",
     "text": [
      "\u001b[34m\u001b[1mwandb\u001b[0m: Downloading large artifact diff30-100num_layers3--checkpoint:latest, 62.10MB. 1 files... \n",
      "\u001b[34m\u001b[1mwandb\u001b[0m:   1 of 1 files downloaded.  \n",
      "Done. 0:0:2.8\n"
     ]
    }
   ],
   "source": [
    "\n",
    "\n",
    "import jax\n",
    "import wandb\n",
    "\n",
    "from models import TransformerConfig, Transformer\n",
    "from env import C_VPR\n",
    "from train import Trainer\n",
    "\n",
    "def get_model(\n",
    "    run_name: str,\n",
    "    train_num_hops: int | list[int] = 3,\n",
    "    eval_num_hops: int | list[int] | None = None,\n",
    "    seq_length: int = 10,\n",
    "    num_layers: int = 2,\n",
    "    num_repeat_model: int = 1,\n",
    "    emb_dim: int = 384,\n",
    "    num_heads: int = 6,\n",
    "    mlp_dim_factror: float = 4,\n",
    "    dropout_rate: float = 0.0,\n",
    "    learning_rate: float = 5e-4,\n",
    "    batch_size: int = 5,\n",
    "    eval_size: int = 5,\n",
    "    use_bias: bool = False,\n",
    "    activation: str = \"silu\",\n",
    "):\n",
    "    config = TransformerConfig(\n",
    "        vocab_size=seq_length,\n",
    "        output_vocab_size=seq_length,\n",
    "        emb_dim=emb_dim,\n",
    "        num_heads=num_heads,\n",
    "        num_layers=num_layers,\n",
    "        num_repeat_model=num_repeat_model,\n",
    "        mlp_dim_factror=mlp_dim_factror,\n",
    "        max_len=seq_length,\n",
    "        dropout_rate=dropout_rate,\n",
    "        attention_dropout_rate=dropout_rate,\n",
    "        use_bias=use_bias,\n",
    "        activation=activation,\n",
    "    )\n",
    "    model = Transformer(config)\n",
    "    c_vpr = C_VPR(seq_length)\n",
    "\n",
    "    trainer = Trainer(\n",
    "        c_vpr, train_num_hops, eval_num_hops, seq_length, batch_size, eval_size\n",
    "    )\n",
    "    key = jax.random.PRNGKey(0)\n",
    "    state = trainer.init_train_state(model, key, learning_rate)\n",
    "    wandb.init()\n",
    "    state = trainer.load_checkpoint(\"checkpoint.msgpack\", state, run_name)\n",
    "    return model, state\n",
    "\n",
    "models, states = [], []\n",
    "for num_layers in [1, 2, 3]:\n",
    "    model, state = get_model(run_name=f\"diff30-100num_layers{num_layers}\", train_num_hops=30, seq_length=100, num_layers=num_layers)\n",
    "    models.append(model)\n",
    "    states.append(state)\n",
    "\n"
   ]
  },
  {
   "cell_type": "code",
   "execution_count": 61,
   "metadata": {},
   "outputs": [
    {
     "data": {
      "text/plain": [
       "(Array([[92, 84, 95, 64, 57, 98, 91, 85,  8,  1],\n",
       "        [92, 95, 44, 13, 91, 97, 88, 98, 99, 51],\n",
       "        [37, 35, 94, 85, 36, 83, 12, 22, 44, 27],\n",
       "        [32, 95, 28, 27, 54,  0, 63, 94, 74, 43],\n",
       "        [93, 48, 93, 99, 54, 43, 28, 75,  5, 29],\n",
       "        [93, 16, 80, 94, 85, 12, 96, 13, 46, 54],\n",
       "        [ 8,  7, 28, 57, 76, 88, 84, 61, 74, 29],\n",
       "        [96, 74, 79, 14, 19, 23, 75, 95,  1,  9],\n",
       "        [34, 93, 98, 97, 78, 35, 70, 98, 70, 99],\n",
       "        [93, 64, 83, 96, 25, 26, 88, 13,  7, 12]], dtype=int32),\n",
       " Array([ 8, 51, 36, 74, 29, 85, 84, 75, 70, 88], dtype=int32))"
      ]
     },
     "execution_count": 61,
     "metadata": {},
     "output_type": "execute_result"
    }
   ],
   "source": [
    "env = C_VPR(input_length=100)\n",
    "keys = jax.random.split(jax.random.PRNGKey(0), 1000)\n",
    "examples, targets = jax.vmap(functools.partial(env.sample_n_hops, num_hops=30, return_target=True))(keys)\n",
    "examples[:10, -10:], targets[:10]"
   ]
  },
  {
   "cell_type": "code",
   "execution_count": 62,
   "metadata": {},
   "outputs": [
    {
     "data": {
      "text/plain": [
       "(1000, 100)"
      ]
     },
     "execution_count": 62,
     "metadata": {},
     "output_type": "execute_result"
    }
   ],
   "source": [
    "logits = [\n",
    "    state.apply_fn(\n",
    "        {\"params\": state.params},\n",
    "        inputs=examples,\n",
    "        deterministic=True,\n",
    "    )\n",
    "    for state in states\n",
    "]\n",
    "logits[0].shape"
   ]
  },
  {
   "cell_type": "code",
   "execution_count": 73,
   "metadata": {},
   "outputs": [
    {
     "name": "stdout",
     "output_type": "stream",
     "text": [
      "0 layer(s): 41 error(s) [ 33  39  48  69 125 162 169 171 195 207 226 300 312 322 371 446 503 515\n",
      " 516 522 542 548 550 569 582 607 608 623 695 732 739 770 773 790 899 930\n",
      " 936 944 955 971 997]\n",
      "1 layer(s): 5 error(s) [ 69 472 548 550 930]\n",
      "2 layer(s): 4 error(s) [118 379 548 770]\n"
     ]
    }
   ],
   "source": [
    "for i in range(3):\n",
    "    errors = np.where((logits[i].argmax(axis=1) == targets) == False)[0]\n",
    "    num_errors = len(errors)\n",
    "    print(f\"{i} layer(s):\", num_errors, \"error(s)\", errors)\n",
    "    "
   ]
  },
  {
   "cell_type": "code",
   "execution_count": 82,
   "metadata": {},
   "outputs": [
    {
     "data": {
      "image/png": "[encoded data removed]",
      "text/plain": [
       "<Figure size 1000x1000 with 5 Axes>"
      ]
     },
     "metadata": {},
     "output_type": "display_data"
    }
   ],
   "source": [
    "import matplotlib.pyplot as plt\n",
    "\n",
    "fig, axes = plt.subplots(nrows=5, ncols=1, figsize=(10, 10))\n",
    "for i, ax in zip([0, 33, 69, 530, 118], axes):\n",
    "    for j, color in enumerate(reversed([\"limegreen\", \"orange\", \"red\"])):\n",
    "        ax.bar(range(100), logits[j][i], color=color, label=f\"num_layers={j+1}\", alpha=0.7)\n",
    "    ax.set_title(f'seq: {examples[i, -20:]}, label: {targets[i]}')\n",
    "axes[0].legend(loc=\"upper center\")\n",
    "plt.tight_layout()\n",
    "plt.show()\n"
   ]
  }
 ],
 "metadata": {
  "kernelspec": {
   "display_name": "factorexe",
   "language": "python",
   "name": "python3"
  },
  "language_info": {
   "codemirror_mode": {
    "name": "ipython",
    "version": 3
   },
   "file_extension": ".py",
   "mimetype": "text/x-python",
   "name": "python",
   "nbconvert_exporter": "python",
   "pygments_lexer": "ipython3",
   "version": "3.10.11"
  },
  "orig_nbformat": 4
 },
 "nbformat": 4,
 "nbformat_minor": 2
}

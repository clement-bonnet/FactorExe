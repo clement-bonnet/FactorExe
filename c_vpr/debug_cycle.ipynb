{
 "cells": [
  {
   "cell_type": "code",
   "execution_count": 1,
   "metadata": {},
   "outputs": [
    {
     "name": "stdout",
     "output_type": "stream",
     "text": [
      "/Users/clement/FactorExe\n"
     ]
    },
    {
     "name": "stderr",
     "output_type": "stream",
     "text": [
      "/Users/clement/.pyenv/versions/3.10.11/envs/factorexe/lib/python3.10/site-packages/IPython/core/magics/osm.py:417: UserWarning: using dhist requires you to install the `pickleshare` library.\n",
      "  self.shell.db['dhist'] = compress_dhist(dhist)[-100:]\n"
     ]
    }
   ],
   "source": [
    "%cd .."
   ]
  },
  {
   "cell_type": "code",
   "execution_count": 2,
   "metadata": {},
   "outputs": [],
   "source": [
    "import functools\n",
    "\n",
    "import jax\n",
    "import jax.numpy as jnp\n",
    "import numpy as np\n",
    "\n",
    "from c_vpr.cycle import Cycle"
   ]
  },
  {
   "cell_type": "code",
   "execution_count": 3,
   "metadata": {},
   "outputs": [],
   "source": [
    "env = Cycle(input_length=40)\n",
    "keys = jax.random.split(jax.random.PRNGKey(0), 8)\n",
    "examples, cot, targets = jax.vmap(functools.partial(env.sample_n_hops, num_hops=2, return_target=True, return_cot=True))(keys)"
   ]
  },
  {
   "cell_type": "code",
   "execution_count": 4,
   "metadata": {},
   "outputs": [
    {
     "name": "stdout",
     "output_type": "stream",
     "text": [
      "[ 5 37 34 16 21 14  8 32 17 23 31  3 20 19 35 26 39 38 27 29  2 10 24 12\n",
      "  0 30 28 11  9 36  1 18  6  7 33 25 15 13  4 22] [ 5 14 35] 35 \n",
      "\n",
      "[14  3 12 39  1 38 19 13  6 15 23 18 25 22 24 34 28 33 32 35 11  4 16 26\n",
      "  9 20  5 17  8 10 31  0 30 29 21 37 27  2  7 36] [14 24  9] 9 \n",
      "\n",
      "[25 11 28 19 31 26 34 37  7 36 15 24 14  9 16 20 21  2 10 33  6  4 35 38\n",
      "  8  5 13 18  1 17  0  3 29 32 39 12 27 23 30 22] [25  5 26] 26 \n",
      "\n",
      "[12 20 25 39 24  9 27 23 33 28  6 37 10  8  3 26 38  2 15  4 34 36 14 13\n",
      " 35 21 31 19 32 17 29 16  7 30  5 18 22  0  1 11] [12 10  6] 6 \n",
      "\n",
      "[37 24  6  7 35 11 31 16 27 33  0 22  1 30  4 13  9 38  3 32 26  8 34 21\n",
      " 29 14 18 20 17 25 36 15 39 28 12 23 19  2 10  5] [37  2  6] 6 \n",
      "\n",
      "[37  4 21 34 23 24  0 27  2  6 11 28 13  3 16 29 22 30 12 26 15 18 35 25\n",
      " 38  9 10  1 33 31 20  8  7 39 32 17  5 19 14 36] [37 19 26] 26 \n",
      "\n",
      "[11 19 22 38 23  0  1 31 39 36 30 33 24  4 32 35 28 10 21  3 27  5 12 34\n",
      "  8 29  9  7 18 26 20 15 25  6 17  2 13 14 37 16] [11 33  6] 6 \n",
      "\n",
      "[15  2 21 12 30 14 26  6  5 27 22  9 11 35 24 25  8 23 39 38 34 16 28 36\n",
      "  0  4 32 31  7  3 13 20 29 19 37 17 33 18 10  1] [15 25  4] 4 \n",
      "\n"
     ]
    }
   ],
   "source": [
    "for example, cot_, target in zip(examples, cot, targets):\n",
    "    print(example, cot_, target, \"\\n\")"
   ]
  },
  {
   "cell_type": "code",
   "execution_count": 5,
   "metadata": {},
   "outputs": [
    {
     "data": {
      "text/plain": [
       "Array([35,  9, 26,  6,  6, 26,  6,  4], dtype=int32)"
      ]
     },
     "execution_count": 5,
     "metadata": {},
     "output_type": "execute_result"
    }
   ],
   "source": [
    "targets"
   ]
  },
  {
   "cell_type": "code",
   "execution_count": null,
   "metadata": {},
   "outputs": [],
   "source": []
  },
  {
   "cell_type": "code",
   "execution_count": 6,
   "metadata": {},
   "outputs": [
    {
     "name": "stderr",
     "output_type": "stream",
     "text": [
      "/Users/clement/.pyenv/versions/3.10.11/envs/factorexe/lib/python3.10/site-packages/tqdm/auto.py:21: TqdmWarning: IProgress not found. Please update jupyter and ipywidgets. See https://ipywidgets.readthedocs.io/en/stable/user_install.html\n",
      "  from .autonotebook import tqdm as notebook_tqdm\n"
     ]
    },
    {
     "name": "stdout",
     "output_type": "stream",
     "text": [
      "True\n"
     ]
    },
    {
     "name": "stderr",
     "output_type": "stream",
     "text": [
      "INFO:root:Number of parameters: 7,177,344\n",
      "ERROR:wandb.jupyter:Failed to detect the name of this notebook, you can set it manually with the WANDB_NOTEBOOK_NAME environment variable to enable code saving.\n",
      "\u001b[34m\u001b[1mwandb\u001b[0m: Currently logged in as: \u001b[33mclementbonnet\u001b[0m. Use \u001b[1m`wandb login --relogin`\u001b[0m to force relogin\n"
     ]
    },
    {
     "data": {
      "text/html": [
       "wandb version 0.16.2 is available!  To upgrade, please run:\n",
       " $ pip install wandb --upgrade"
      ],
      "text/plain": [
       "<IPython.core.display.HTML object>"
      ]
     },
     "metadata": {},
     "output_type": "display_data"
    },
    {
     "data": {
      "text/html": [
       "Tracking run with wandb version 0.16.1"
      ],
      "text/plain": [
       "<IPython.core.display.HTML object>"
      ]
     },
     "metadata": {},
     "output_type": "display_data"
    },
    {
     "data": {
      "text/html": [
       "Run data is saved locally in <code>/Users/clement/FactorExe/wandb/run-20240121_161202-27wq54be</code>"
      ],
      "text/plain": [
       "<IPython.core.display.HTML object>"
      ]
     },
     "metadata": {},
     "output_type": "display_data"
    },
    {
     "data": {
      "text/html": [
       "Syncing run <strong><a href='https://wandb.ai/clementbonnet/FactorExe/runs/27wq54be' target=\"_blank\">fresh-brook-293</a></strong> to <a href='https://wandb.ai/clementbonnet/FactorExe' target=\"_blank\">Weights & Biases</a> (<a href='https://wandb.me/run' target=\"_blank\">docs</a>)<br/>"
      ],
      "text/plain": [
       "<IPython.core.display.HTML object>"
      ]
     },
     "metadata": {},
     "output_type": "display_data"
    },
    {
     "data": {
      "text/html": [
       " View project at <a href='https://wandb.ai/clementbonnet/FactorExe' target=\"_blank\">https://wandb.ai/clementbonnet/FactorExe</a>"
      ],
      "text/plain": [
       "<IPython.core.display.HTML object>"
      ]
     },
     "metadata": {},
     "output_type": "display_data"
    },
    {
     "data": {
      "text/html": [
       " View run at <a href='https://wandb.ai/clementbonnet/FactorExe/runs/27wq54be' target=\"_blank\">https://wandb.ai/clementbonnet/FactorExe/runs/27wq54be</a>"
      ],
      "text/plain": [
       "<IPython.core.display.HTML object>"
      ]
     },
     "metadata": {},
     "output_type": "display_data"
    },
    {
     "name": "stderr",
     "output_type": "stream",
     "text": [
      "\u001b[34m\u001b[1mwandb\u001b[0m: Downloading large artifact Cycle2-40.AT_0.1.2_COT--checkpoint:v2, 82.15MB. 1 files... \n",
      "\u001b[34m\u001b[1mwandb\u001b[0m:   1 of 1 files downloaded.  \n",
      "Done. 0:0:4.9\n"
     ]
    }
   ],
   "source": [
    "import logging\n",
    "\n",
    "import wandb\n",
    "\n",
    "from c_vpr.transformer_utils import TransformerConfig\n",
    "from c_vpr.old_augmented_transformer import AugmentedTransformer, CoTModuleConfig\n",
    "from c_vpr.train import Trainer, MODE\n",
    "\n",
    "def get_model(\n",
    "    run_name: str,\n",
    "    checkpoint_version: str = \"latest\",\n",
    "    mode: MODE = MODE.SUPERVISED,\n",
    "    train_num_hops: int | list[int] = 3,\n",
    "    eval_num_hops: int | list[int] | None = None,\n",
    "    seq_length: int = 10,\n",
    "    encoder_num_heads: int = 6,\n",
    "    encoder_num_layers: int = 1,\n",
    "    encoder_num_repeat_model: int = 1,\n",
    "    cot_module: bool = False,\n",
    "    cot_seq_length: int = 3,\n",
    "    cot_num_heads: int = 6,\n",
    "    cot_num_layers: int = 1,\n",
    "    cot_num_repeat_model: int = 1,\n",
    "    decoder_num_heads: int = 6,\n",
    "    decoder_num_layers: int = 1,\n",
    "    decoder_num_repeat_model: int = 1,\n",
    "    emb_dim: int = 384,\n",
    "    mlp_dim_factor: float = 4,\n",
    "    all_dropouts_rate: float = 0.0,\n",
    "    cot_loss_weight_mixing: float = 1.0,\n",
    "    cot_stop_gradient_encoder: bool = True,\n",
    "    decode_from_sampled_cot_tokens: bool = False,\n",
    "    learning_rate: float = 3e-4,\n",
    "    batch_size: int = 512,\n",
    "    eval_size: int = 500,\n",
    "):\n",
    "    encoder_config = TransformerConfig(\n",
    "        vocab_size=seq_length,\n",
    "        output_vocab_size=None,\n",
    "        emb_dim=emb_dim,\n",
    "        num_heads=encoder_num_heads,\n",
    "        num_layers=encoder_num_layers,\n",
    "        num_repeat_model=encoder_num_repeat_model,\n",
    "        mlp_dim_factor=mlp_dim_factor,\n",
    "        max_len=seq_length,\n",
    "        dropout_rate=all_dropouts_rate,\n",
    "        attention_dropout_rate=all_dropouts_rate,\n",
    "    )\n",
    "    if cot_module:\n",
    "        if (\n",
    "            mode in [MODE.COT, MODE.RL]\n",
    "            and isinstance(train_num_hops, int)\n",
    "            and cot_seq_length != train_num_hops\n",
    "        ):\n",
    "            logging.warning(\n",
    "                f\"cot_seq_length ({cot_seq_length}) is different from train_num_hops \"\n",
    "                \"({train_num_hops}), which means that the chain of thought sequence and \"\n",
    "                \"the chain of thoughts labels have different lengths. This is not supported yet.\"\n",
    "            )\n",
    "        cot_module_config = CoTModuleConfig(\n",
    "            cross_transformer_config=TransformerConfig(\n",
    "                vocab_size=None,\n",
    "                output_vocab_size=None,\n",
    "                emb_dim=emb_dim,\n",
    "                num_heads=cot_num_heads,\n",
    "                num_layers=cot_num_layers,\n",
    "                num_repeat_model=cot_num_repeat_model,\n",
    "                mlp_dim_factor=mlp_dim_factor,\n",
    "                max_len=None,\n",
    "                dropout_rate=all_dropouts_rate,\n",
    "                attention_dropout_rate=all_dropouts_rate,\n",
    "            ),\n",
    "            cot_seq_length=cot_seq_length,\n",
    "            cot_vocab_size=seq_length,\n",
    "        )\n",
    "    else:\n",
    "        assert mode != MODE.COT, \"COT mode requires cot_module to be True\"\n",
    "        cot_module_config = None\n",
    "    decoder_config = TransformerConfig(\n",
    "        vocab_size=None,\n",
    "        output_vocab_size=seq_length,\n",
    "        emb_dim=emb_dim,\n",
    "        num_heads=decoder_num_heads,\n",
    "        num_layers=decoder_num_layers,\n",
    "        num_repeat_model=decoder_num_repeat_model,\n",
    "        mlp_dim_factor=mlp_dim_factor,\n",
    "        max_len=None,\n",
    "        dropout_rate=all_dropouts_rate,\n",
    "        attention_dropout_rate=all_dropouts_rate,\n",
    "    )\n",
    "    model = AugmentedTransformer(\n",
    "        encoder_config,\n",
    "        cot_module_config,\n",
    "        decoder_config,\n",
    "    )\n",
    "    env = Cycle(seq_length)\n",
    "\n",
    "    print(isinstance(model, AugmentedTransformer))\n",
    "    trainer = Trainer(\n",
    "        model,\n",
    "        env,\n",
    "        mode,\n",
    "        train_num_hops,\n",
    "        eval_num_hops,\n",
    "        seq_length,\n",
    "        batch_size,\n",
    "        eval_size,\n",
    "        cot_start_token=cot_module_config.cot_vocab_size if cot_module_config else None,\n",
    "        cot_loss_weight_mixing=cot_loss_weight_mixing,\n",
    "        cot_stop_gradient_encoder=cot_stop_gradient_encoder,\n",
    "        decode_from_sampled_cot_tokens=decode_from_sampled_cot_tokens,\n",
    "    )\n",
    "    key = jax.random.PRNGKey(0)\n",
    "    state = trainer.init_train_state(key, learning_rate)\n",
    "    wandb.init(project=\"FactorExe\")\n",
    "    state = trainer.load_checkpoint(\"checkpoint.msgpack\", state, run_name, version=checkpoint_version)\n",
    "    return model, state\n",
    "\n",
    "model, state = get_model(\n",
    "    run_name=\"Cycle 2-40, AT(0, 1, 2) COT\",\n",
    "    checkpoint_version=\"v2\",\n",
    "    train_num_hops=2,\n",
    "    eval_num_hops=[1, 2, 3, 4],\n",
    "    seq_length=40,\n",
    "    mode=MODE.COT,\n",
    "    encoder_num_repeat_model=0,\n",
    "    cot_module=True,\n",
    "    cot_seq_length=2,\n",
    "    cot_num_layers=1,\n",
    "    cot_num_repeat_model=1,\n",
    "    decoder_num_repeat_model=1,\n",
    "    decoder_num_layers=2,\n",
    "    batch_size=256,\n",
    ")"
   ]
  },
  {
   "cell_type": "code",
   "execution_count": null,
   "metadata": {},
   "outputs": [],
   "source": []
  },
  {
   "cell_type": "code",
   "execution_count": 9,
   "metadata": {},
   "outputs": [
    {
     "data": {
      "text/plain": [
       "(Array([[ 5, 23,  7, 15, 33, 29, 20, 28, 24, 25, 18, 14, 17, 34, 31, 12,\n",
       "         38,  1, 35, 30, 22, 39, 32, 36, 37, 21, 19,  3,  6,  8, 13,  2,\n",
       "         10,  0, 11,  9, 16, 26,  4, 27],\n",
       "        [13,  3, 36, 23, 22, 10, 39, 24, 35, 16,  0, 30, 11, 38, 21,  9,\n",
       "         12,  2, 32, 25,  5,  7, 28, 26, 33,  6, 18, 19, 20, 15, 27, 34,\n",
       "          8, 31,  1,  4, 14, 29, 37, 17],\n",
       "        [38, 22, 15, 34, 33, 23, 37, 20, 19, 18, 21, 36,  4,  6, 39, 27,\n",
       "         12, 16,  7, 30,  5, 29,  8, 31,  2, 17, 35, 25, 11,  0, 28, 24,\n",
       "         26,  3, 13,  1, 10, 14,  9, 32]], dtype=int32),\n",
       " Array([[ 5, 29],\n",
       "        [13, 38],\n",
       "        [38,  9]], dtype=int32),\n",
       " Array([ 8, 37, 18], dtype=int32))"
      ]
     },
     "execution_count": 9,
     "metadata": {},
     "output_type": "execute_result"
    }
   ],
   "source": [
    "env = Cycle(input_length=40)\n",
    "keys = jax.random.split(jax.random.PRNGKey(0), 1000)\n",
    "examples, cots, targets = jax.vmap(functools.partial(env.sample_n_hops, num_hops=2, return_target=True, return_cot=True))(keys)\n",
    "examples[:3], cots[:3], targets[:3]"
   ]
  },
  {
   "cell_type": "code",
   "execution_count": 10,
   "metadata": {},
   "outputs": [
    {
     "data": {
      "text/plain": [
       "(1000, 40)"
      ]
     },
     "execution_count": 10,
     "metadata": {},
     "output_type": "execute_result"
    }
   ],
   "source": [
    "logits = state.apply_fn(\n",
    "    {\"params\": state.params},\n",
    "    inputs=examples,\n",
    "    deterministic=True,\n",
    ")\n",
    "logits.shape"
   ]
  },
  {
   "cell_type": "code",
   "execution_count": 11,
   "metadata": {},
   "outputs": [
    {
     "name": "stdout",
     "output_type": "stream",
     "text": [
      "Accuracy: 0.998\n"
     ]
    }
   ],
   "source": [
    "print(\"Accuracy:\", jnp.mean(jnp.argmax(logits, axis=-1) == targets))"
   ]
  },
  {
   "cell_type": "code",
   "execution_count": 16,
   "metadata": {},
   "outputs": [
    {
     "data": {
      "text/plain": [
       "(Array([[29, 39, 31, 17,  3, 10,  4, 28, 19,  1,  2,  8,  9, 24, 23, 27,\n",
       "         35,  7, 33,  6, 25, 20, 11, 16, 26, 32,  0, 36, 18, 15, 21, 13,\n",
       "         22, 34, 14,  5, 38, 30, 12, 37],\n",
       "        [ 2, 31, 14, 17,  7, 19, 16, 29, 21, 39,  6, 33, 13, 38, 18,  1,\n",
       "         34, 23, 15,  9,  8, 36,  0, 35, 27, 11, 28, 30,  3, 32, 37,  4,\n",
       "         20, 12,  5, 10, 26, 25, 22, 24]], dtype=int32),\n",
       " Array([[29, 15],\n",
       "        [ 2, 14]], dtype=int32),\n",
       " Array([27, 18], dtype=int32),\n",
       " Array([39, 29], dtype=int32))"
      ]
     },
     "execution_count": 16,
     "metadata": {},
     "output_type": "execute_result"
    }
   ],
   "source": [
    "error_indices = jnp.where(jnp.argmax(logits, axis=-1) != targets)[0]\n",
    "examples[error_indices], cots[error_indices], targets[error_indices], logits[error_indices].argmax(axis=-1)"
   ]
  },
  {
   "cell_type": "code",
   "execution_count": 53,
   "metadata": {},
   "outputs": [
    {
     "data": {
      "text/plain": [
       "<BarContainer object of 40 artists>"
      ]
     },
     "execution_count": 53,
     "metadata": {},
     "output_type": "execute_result"
    },
    {
     "data": {
      "image/png": "[encoded data removed]",
      "text/plain": [
       "<Figure size 640x480 with 1 Axes>"
      ]
     },
     "metadata": {},
     "output_type": "display_data"
    }
   ],
   "source": [
    "import matplotlib.pyplot as plt\n",
    "plt.bar(range(40), logits[error_indices[0]])"
   ]
  },
  {
   "cell_type": "code",
   "execution_count": 20,
   "metadata": {},
   "outputs": [],
   "source": [
    "drop_key1, drop_key2, drop_key3, drop_key4 = jax.random.split(jax.random.PRNGKey(0), 4)\n",
    "\n",
    "encoder_embeddings = state.apply_fn(\n",
    "    variables={\"params\": state.params},\n",
    "    inputs=examples,\n",
    "    deterministic=False,\n",
    "    pad_mask=None,\n",
    "    rngs={\"dropout\": drop_key1},\n",
    "    method=model.encode,\n",
    ")\n",
    "\n",
    "cot_start_token = 40\n",
    "cot_tokens = jnp.concatenate(\n",
    "    [jnp.full((cots.shape[0], 1), cot_start_token), cots], axis=1\n",
    ")\n",
    "cot_labels = jnp.concatenate(\n",
    "    [cots, jnp.full((cots.shape[0], 1), cot_start_token)], axis=1\n",
    ")\n",
    "cot_logits = state.apply_fn(\n",
    "    variables={\"params\": state.params},\n",
    "    cot_tokens=cot_tokens,\n",
    "    encoder_embeddings=jax.lax.stop_gradient(encoder_embeddings),\n",
    "    deterministic=False,\n",
    "    pad_mask=None,\n",
    "    rngs={\"dropout\": drop_key2},\n",
    "    method=model.generate_cot_logits_from_encoder_embeddings,\n",
    ")\n",
    "cot_tokens = cots\n",
    "\n",
    "logits = state.apply_fn(\n",
    "    variables={\"params\": state.params},\n",
    "    encoder_embeddings=encoder_embeddings,\n",
    "    cot_tokens=cot_tokens,\n",
    "    deterministic=False,\n",
    "    encoder_pad_mask=None,\n",
    "    cot_pad_mask=None,\n",
    "    rngs={\"dropout\": drop_key4},\n",
    "    method=model.decode,\n",
    ")"
   ]
  },
  {
   "cell_type": "code",
   "execution_count": 29,
   "metadata": {},
   "outputs": [
    {
     "data": {
      "text/plain": [
       "Array([[29, 15],\n",
       "       [ 2, 14]], dtype=int32)"
      ]
     },
     "execution_count": 29,
     "metadata": {},
     "output_type": "execute_result"
    }
   ],
   "source": [
    "cot_tokens[error_indices]"
   ]
  },
  {
   "cell_type": "code",
   "execution_count": 28,
   "metadata": {},
   "outputs": [
    {
     "data": {
      "text/plain": [
       "Array([39, 29], dtype=int32)"
      ]
     },
     "execution_count": 28,
     "metadata": {},
     "output_type": "execute_result"
    }
   ],
   "source": [
    "logits[error_indices].argmax(axis=-1)"
   ]
  },
  {
   "cell_type": "code",
   "execution_count": 52,
   "metadata": {},
   "outputs": [
    {
     "data": {
      "text/plain": [
       "<BarContainer object of 40 artists>"
      ]
     },
     "execution_count": 52,
     "metadata": {},
     "output_type": "execute_result"
    },
    {
     "data": {
      "image/png": "[encoded data removed]",
      "text/plain": [
       "<Figure size 640x480 with 1 Axes>"
      ]
     },
     "metadata": {},
     "output_type": "display_data"
    }
   ],
   "source": [
    "plt.bar(range(40), logits[error_indices[0]])"
   ]
  },
  {
   "cell_type": "code",
   "execution_count": 36,
   "metadata": {},
   "outputs": [
    {
     "data": {
      "text/plain": [
       "Array([[29, 15],\n",
       "       [ 2, 14]], dtype=int32)"
      ]
     },
     "execution_count": 36,
     "metadata": {},
     "output_type": "execute_result"
    }
   ],
   "source": [
    "sampled_cot_tokens, sampled_logits = state.apply_fn(\n",
    "    variables={\"params\": state.params},\n",
    "    encoder_embeddings=encoder_embeddings,\n",
    "    deterministic=False,\n",
    "    cot_key=jax.random.PRNGKey(0),\n",
    "    pad_mask=None,\n",
    "    rngs={\"dropout\": drop_key3},\n",
    "    method=model.cot_module_call,\n",
    ")\n",
    "sampled_cot_tokens[error_indices]"
   ]
  },
  {
   "cell_type": "code",
   "execution_count": 44,
   "metadata": {},
   "outputs": [
    {
     "data": {
      "text/plain": [
       "(40,)"
      ]
     },
     "execution_count": 44,
     "metadata": {},
     "output_type": "execute_result"
    }
   ],
   "source": [
    "sampled_logits[error_indices[0], 0, :].shape"
   ]
  },
  {
   "cell_type": "code",
   "execution_count": 50,
   "metadata": {},
   "outputs": [
    {
     "data": {
      "text/plain": [
       "<BarContainer object of 40 artists>"
      ]
     },
     "execution_count": 50,
     "metadata": {},
     "output_type": "execute_result"
    },
    {
     "data": {
      "image/png": "[encoded data removed]",
      "text/plain": [
       "<Figure size 640x480 with 1 Axes>"
      ]
     },
     "metadata": {},
     "output_type": "display_data"
    }
   ],
   "source": [
    "plt.bar(range(40), sampled_logits[error_indices[0], 1, :])"
   ]
  }
 ],
 "metadata": {
  "kernelspec": {
   "display_name": "factorexe",
   "language": "python",
   "name": "python3"
  },
  "language_info": {
   "codemirror_mode": {
    "name": "ipython",
    "version": 3
   },
   "file_extension": ".py",
   "mimetype": "text/x-python",
   "name": "python",
   "nbconvert_exporter": "python",
   "pygments_lexer": "ipython3",
   "version": "3.10.11"
  },
  "orig_nbformat": 4
 },
 "nbformat": 4,
 "nbformat_minor": 2
}
